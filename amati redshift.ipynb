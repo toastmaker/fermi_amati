{
 "cells": [
  {
   "cell_type": "code",
   "execution_count": 563,
   "metadata": {
    "collapsed": true
   },
   "outputs": [],
   "source": [
    "import numpy as np\n",
    "from astropy.cosmology import z_at_value, FlatLambdaCDM\n",
    "import astropy.units as u\n",
    "import pandas as pd"
   ]
  },
  {
   "cell_type": "code",
   "execution_count": 446,
   "metadata": {
    "collapsed": true
   },
   "outputs": [],
   "source": [
    "cosmo = FlatLambdaCDM(H0=70 * u.km / u.s / u.Mpc, Om0=0.3)"
   ]
  },
  {
   "cell_type": "code",
   "execution_count": 581,
   "metadata": {
    "collapsed": true
   },
   "outputs": [],
   "source": [
    "fermi_grbs = [\n",
    "    {'grb': '170214A', 'e_peak': 408.5,'fluence': 1.8e-4, 'z': 2.53 },\n",
    "    {'grb': '160625B', 'e_peak': 68., 'fluence': 1.7e-6, 'z': 1.41 },\n",
    "    {'grb': '160623A', 'e_peak': 562., 'fluence': 6.6e-4, 'z': 0.37},\n",
    "    {'grb': '160509A', 'e_peak': 370., 'fluence': 1.5e-4, 'z': 1.17},\n",
    "    {'grb': '150514A', 'e_peak': 73.,  'fluence': 4.9e-6, 'z': 0.81},\n",
    "    {'grb': '131011A', 'e_peak': 220., 'fluence': 6.6e-5, 'z': 1.87}\n",
    "]"
   ]
  },
  {
   "cell_type": "code",
   "execution_count": 582,
   "metadata": {
    "collapsed": true
   },
   "outputs": [],
   "source": [
    "def amati_Ep2Eiso_log(Ep, A = 2.07, B = 0.49):\n",
    "    \"\"\"log(Epeak [keV]) = 2.07+0.49*log(Eiso/1e52) from arXiv:1612.00618v3 Dainotti et al.\n",
    "       returns E_iso x 10^52 erg\"\"\"\n",
    "    logEp = np.log10(Ep)\n",
    "    logEiso = (logEp - A)/B\n",
    "    return 10**(logEiso+52.)"
   ]
  },
  {
   "cell_type": "code",
   "execution_count": 583,
   "metadata": {
    "collapsed": true
   },
   "outputs": [],
   "source": [
    "def amatiE_peak2E_iso(E_peak,m=0.49,K=90., e0=1e52):\n",
    "    \"\"\"Calculates E_peak from 'famous' Amati relation\n",
    "    E_p [keV] = K * (E_iso[1e52 erg])**m\n",
    "    \"\"\"\n",
    "    return e0*(E_peak/K)**(1./m)"
   ]
  },
  {
   "cell_type": "code",
   "execution_count": 584,
   "metadata": {
    "collapsed": true
   },
   "outputs": [],
   "source": [
    "def solve_iter(dl, dTarget):\n",
    "    \"\"\"Iterator that calculates the range of redshifts and compares the function with the target value\n",
    "    \"\"\"\n",
    "\n",
    "    tolerance = 0.001\n",
    "\n",
    "    zMin = 0.0\n",
    "    zMax = 10.0\n",
    "\n",
    "    diff = dl(zMax) - dTarget\n",
    "    while diff < 0:\n",
    "        zMax = zMax + 5.0\n",
    "        diff = dl(zMax) - dTarget\n",
    "\n",
    "    zTrial = zMin + (zMax - zMin) / 2.0\n",
    "\n",
    "    dTrial = dl(zTrial)\n",
    "    diff = dTrial - dTarget\n",
    "    while abs(diff)/dTarget > tolerance:\n",
    "\n",
    "        if diff > 0:\n",
    "            zMax = zMax - (zMax - zMin) / 2.0\n",
    "        else:\n",
    "            zMin = zMin + (zMax - zMin) / 2.0\n",
    "\n",
    "        zTrial = zMin + (zMax - zMin) / 2.0\n",
    "        dTrial = dl(zTrial)\n",
    "        diff = dTrial - dTarget\n",
    "\n",
    "    return zTrial"
   ]
  },
  {
   "cell_type": "code",
   "execution_count": 585,
   "metadata": {
    "collapsed": false
   },
   "outputs": [],
   "source": [
    "def calc_redshift(e_peak, fluence):\n",
    "    e_iso = amati_Ep2Eiso_log(e_peak) # log version of Amati, Dainotti\n",
    "    #e_iso = amatiE_peak2E_iso(e_peak) # Amati in Amati\n",
    "    #e_iso = amatiE_peak2E_iso(e_peak, m=0.5, K=400., e0=1e53) # Amati used by Andrew\n",
    "    dlz2_target = e_iso/(4.*np.pi*fluence)\n",
    "    dlz_target = np.sqrt(dlz2_target)\n",
    "    #z_amati_dc = solve_iter(cosmo.comoving_distance,dlz_target*u.cm) # switch between two solvers of z from dc(z)\n",
    "    z_amati_dc = z_at_value(cosmo.comoving_distance, dlz_target*u.cm)\n",
    "    return e_iso, dlz_target*u.cm, z_amati_dc"
   ]
  },
  {
   "cell_type": "code",
   "execution_count": 586,
   "metadata": {
    "collapsed": false
   },
   "outputs": [
    {
     "ename": "TypeError",
     "evalue": "list indices must be integers, not str",
     "output_type": "error",
     "traceback": [
      "\u001b[0;31m---------------------------------------------------------------------------\u001b[0m",
      "\u001b[0;31mTypeError\u001b[0m                                 Traceback (most recent call last)",
      "\u001b[0;32m<ipython-input-586-61d6b7301017>\u001b[0m in \u001b[0;36m<module>\u001b[0;34m()\u001b[0m\n\u001b[1;32m      1\u001b[0m \u001b[0mz_measured\u001b[0m \u001b[0;34m=\u001b[0m \u001b[0;34m[\u001b[0m\u001b[0;34m]\u001b[0m\u001b[0;34m\u001b[0m\u001b[0m\n\u001b[1;32m      2\u001b[0m \u001b[0mz_amati\u001b[0m \u001b[0;34m=\u001b[0m \u001b[0;34m[\u001b[0m\u001b[0;34m]\u001b[0m\u001b[0;34m\u001b[0m\u001b[0m\n\u001b[0;32m----> 3\u001b[0;31m \u001b[0mfermi_grbs\u001b[0m\u001b[0;34m[\u001b[0m\u001b[0;34m'z_amati'\u001b[0m\u001b[0;34m]\u001b[0m \u001b[0;34m=\u001b[0m \u001b[0;36m0.\u001b[0m\u001b[0;34m\u001b[0m\u001b[0m\n\u001b[0m\u001b[1;32m      4\u001b[0m \u001b[0;32mfor\u001b[0m \u001b[0mgrb\u001b[0m \u001b[0;32min\u001b[0m \u001b[0mfermi_grbs\u001b[0m\u001b[0;34m:\u001b[0m\u001b[0;34m\u001b[0m\u001b[0m\n\u001b[1;32m      5\u001b[0m     \u001b[0mz_measured\u001b[0m\u001b[0;34m.\u001b[0m\u001b[0mappend\u001b[0m\u001b[0;34m(\u001b[0m\u001b[0mgrb\u001b[0m\u001b[0;34m[\u001b[0m\u001b[0;34m'z'\u001b[0m\u001b[0;34m]\u001b[0m\u001b[0;34m)\u001b[0m\u001b[0;34m\u001b[0m\u001b[0m\n",
      "\u001b[0;31mTypeError\u001b[0m: list indices must be integers, not str"
     ]
    }
   ],
   "source": [
    "z_measured = []\n",
    "z_amati = []\n",
    "fermi_grbs['z_amati'] = 0.\n",
    "for grb in fermi_grbs:\n",
    "    z_measured.append(grb['z'])\n",
    "    e_iso, dc, z = calc_redshift(grb['e_peak'], grb['fluence'])\n",
    "    print \"grb\", grb['name'], grb['fluence'], grb['e_peak'], grb['z'], z\n",
    "    z_amati.append(z)"
   ]
  },
  {
   "cell_type": "code",
   "execution_count": 577,
   "metadata": {
    "collapsed": false
   },
   "outputs": [
    {
     "data": {
      "text/html": [
       "<div>\n",
       "<table border=\"1\" class=\"dataframe\">\n",
       "  <thead>\n",
       "    <tr style=\"text-align: right;\">\n",
       "      <th></th>\n",
       "      <th>name</th>\n",
       "      <th>z</th>\n",
       "      <th>fluence</th>\n",
       "      <th>Ep</th>\n",
       "      <th>z_andrew</th>\n",
       "      <th>z_amati</th>\n",
       "    </tr>\n",
       "  </thead>\n",
       "  <tbody>\n",
       "    <tr>\n",
       "      <th>0</th>\n",
       "      <td>170214A</td>\n",
       "      <td>2.530</td>\n",
       "      <td>0.000180</td>\n",
       "      <td>408</td>\n",
       "      <td>0.57</td>\n",
       "      <td>0.673234</td>\n",
       "    </tr>\n",
       "    <tr>\n",
       "      <th>1</th>\n",
       "      <td>160625B</td>\n",
       "      <td>1.410</td>\n",
       "      <td>0.000002</td>\n",
       "      <td>68</td>\n",
       "      <td>0.97</td>\n",
       "      <td>1.319119</td>\n",
       "    </tr>\n",
       "    <tr>\n",
       "      <th>2</th>\n",
       "      <td>160623A</td>\n",
       "      <td>0.370</td>\n",
       "      <td>0.000660</td>\n",
       "      <td>562</td>\n",
       "      <td>0.41</td>\n",
       "      <td>0.460405</td>\n",
       "    </tr>\n",
       "    <tr>\n",
       "      <th>3</th>\n",
       "      <td>160509A</td>\n",
       "      <td>1.170</td>\n",
       "      <td>0.000150</td>\n",
       "      <td>370</td>\n",
       "      <td>0.56</td>\n",
       "      <td>0.666207</td>\n",
       "    </tr>\n",
       "    <tr>\n",
       "      <th>4</th>\n",
       "      <td>150514A</td>\n",
       "      <td>0.810</td>\n",
       "      <td>0.000005</td>\n",
       "      <td>73</td>\n",
       "      <td>0.61</td>\n",
       "      <td>0.712348</td>\n",
       "    </tr>\n",
       "    <tr>\n",
       "      <th>5</th>\n",
       "      <td>131011A</td>\n",
       "      <td>1.874</td>\n",
       "      <td>0.000066</td>\n",
       "      <td>220</td>\n",
       "      <td>0.00</td>\n",
       "      <td>0.576826</td>\n",
       "    </tr>\n",
       "  </tbody>\n",
       "</table>\n",
       "</div>"
      ],
      "text/plain": [
       "      name      z   fluence   Ep  z_andrew   z_amati\n",
       "0  170214A  2.530  0.000180  408      0.57  0.673234\n",
       "1  160625B  1.410  0.000002   68      0.97  1.319119\n",
       "2  160623A  0.370  0.000660  562      0.41  0.460405\n",
       "3  160509A  1.170  0.000150  370      0.56  0.666207\n",
       "4  150514A  0.810  0.000005   73      0.61  0.712348\n",
       "5  131011A  1.874  0.000066  220      0.00  0.576826"
      ]
     },
     "execution_count": 577,
     "metadata": {},
     "output_type": "execute_result"
    }
   ],
   "source": [
    "fermi_grbs"
   ]
  },
  {
   "cell_type": "code",
   "execution_count": 578,
   "metadata": {
    "collapsed": true
   },
   "outputs": [],
   "source": [
    "%matplotlib inline\n",
    "import matplotlib.pyplot as plt"
   ]
  },
  {
   "cell_type": "code",
   "execution_count": 579,
   "metadata": {
    "collapsed": false
   },
   "outputs": [
    {
     "data": {
      "text/plain": [
       "<matplotlib.legend.Legend at 0x119521b90>"
      ]
     },
     "execution_count": 579,
     "metadata": {},
     "output_type": "execute_result"
    },
    {
     "data": {
      "image/png": "[encoded data removed]",
      "text/plain": [
       "<matplotlib.figure.Figure at 0x119521b10>"
      ]
     },
     "metadata": {},
     "output_type": "display_data"
    }
   ],
   "source": [
    "plt.plot(fermi_grbs.z.values, fermi_grbs.z_amati.values, \"o\", label=\"z me\")\n",
    "#plt.plot(fermi_grbs.z.values, fermi_grbs.z_andrew.values, \"o\", label=\"z Andrew\")\n",
    "z_max = max(max(z_amati),max(z_measured))\n",
    "plt.plot([0,z_max],[0,z_max],linestyle=\":\", color=\"black\")\n",
    "plt.xlim([0,1.1*z_max])\n",
    "plt.ylim([0,1.1*z_max])\n",
    "plt.xlabel('z measured')\n",
    "plt.ylabel('z Amati')\n",
    "plt.legend()"
   ]
  },
  {
   "cell_type": "code",
   "execution_count": null,
   "metadata": {
    "collapsed": true
   },
   "outputs": [],
   "source": []
  }
 ],
 "metadata": {
  "kernelspec": {
   "display_name": "Python 2",
   "language": "python",
   "name": "python2"
  },
  "language_info": {
   "codemirror_mode": {
    "name": "ipython",
    "version": 2
   },
   "file_extension": ".py",
   "mimetype": "text/x-python",
   "name": "python",
   "nbconvert_exporter": "python",
   "pygments_lexer": "ipython2",
   "version": "2.7.13"
  }
 },
 "nbformat": 4,
 "nbformat_minor": 2
}
