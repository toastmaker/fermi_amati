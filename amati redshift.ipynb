{
 "cells": [
  {
   "cell_type": "code",
   "execution_count": 445,
   "metadata": {
    "collapsed": true
   },
   "outputs": [],
   "source": [
    "import numpy as np\n",
    "from astropy.cosmology import z_at_value, FlatLambdaCDM\n",
    "import astropy.units as u"
   ]
  },
  {
   "cell_type": "code",
   "execution_count": 446,
   "metadata": {
    "collapsed": true
   },
   "outputs": [],
   "source": [
    "cosmo = FlatLambdaCDM(H0=70 * u.km / u.s / u.Mpc, Om0=0.3)"
   ]
  },
  {
   "cell_type": "code",
   "execution_count": 496,
   "metadata": {
    "collapsed": true
   },
   "outputs": [],
   "source": [
    "fermi_grbs = [\n",
    "    {'grb': '170214A', 'e_peak': 408.5,'fluence': 1.8e-4, 'z': 2.53 },\n",
    "    {'grb': '160625B', 'e_peak': 68., 'fluence': 1.7e-6, 'z': 1.41 },\n",
    "    {'grb': '160623A', 'e_peak': 562., 'fluence': 6.6e-4, 'z': 0.37},\n",
    "    {'grb': '160509A', 'e_peak': 370., 'fluence': 1.5e-4, 'z': 1.17},\n",
    "    {'grb': '150514A', 'e_peak': 73.,  'fluence': 4.9e-6, 'z': 0.81},\n",
    "]"
   ]
  },
  {
   "cell_type": "code",
   "execution_count": 497,
   "metadata": {
    "collapsed": true
   },
   "outputs": [],
   "source": [
    "def amati_Ep2Eiso_log(Ep, A = 2.07, B = 0.49):\n",
    "    \"\"\"log(Epeak [keV]) = 2.07+0.49*log(Eiso/1e52) from arXiv:1612.00618v3 Dainotti et al.\n",
    "       returns E_iso x 10^52 erg\"\"\"\n",
    "    logEp = np.log10(Ep)\n",
    "    logEiso = (logEp - A)/B\n",
    "    return 10**(logEiso+52.)"
   ]
  },
  {
   "cell_type": "code",
   "execution_count": 490,
   "metadata": {
    "collapsed": true
   },
   "outputs": [],
   "source": [
    "def amatiE_peak2E_iso(E_peak,m=0.49,K=90., e0=1e52):\n",
    "    \"\"\"Calculates E_peak from 'famous' Amati relation\n",
    "    E_p [keV] = K * (E_iso[1e52 erg])**m\n",
    "    \"\"\"\n",
    "    return e0*(E_peak/K)**(1./m)"
   ]
  },
  {
   "cell_type": "code",
   "execution_count": 485,
   "metadata": {
    "collapsed": true
   },
   "outputs": [],
   "source": [
    "def solve_iter(dl, dTarget):\n",
    "    \"\"\"Iterator that calculates the range of redshifts and compares the function with the target value\n",
    "    \"\"\"\n",
    "\n",
    "    tolerance = 0.001\n",
    "\n",
    "    zMin = 0.0\n",
    "    zMax = 10.0\n",
    "\n",
    "    diff = dl(zMax) - dTarget\n",
    "    while diff < 0:\n",
    "        zMax = zMax + 5.0\n",
    "        diff = dl(zMax) - dTarget\n",
    "\n",
    "    zTrial = zMin + (zMax - zMin) / 2.0\n",
    "\n",
    "    dTrial = dl(zTrial)\n",
    "    diff = dTrial - dTarget\n",
    "    while abs(diff)/dTarget > tolerance:\n",
    "\n",
    "        if diff > 0:\n",
    "            zMax = zMax - (zMax - zMin) / 2.0\n",
    "        else:\n",
    "            zMin = zMin + (zMax - zMin) / 2.0\n",
    "\n",
    "        zTrial = zMin + (zMax - zMin) / 2.0\n",
    "        dTrial = dl(zTrial)\n",
    "        diff = dTrial - dTarget\n",
    "\n",
    "    return zTrial"
   ]
  },
  {
   "cell_type": "code",
   "execution_count": 498,
   "metadata": {
    "collapsed": false
   },
   "outputs": [],
   "source": [
    "def calc_redshift(e_peak, fluence):\n",
    "    #e_iso = amati_Ep2Eiso_log(e_peak) # log version of Amati, Dainotti\n",
    "    #e_iso = amatiE_peak2E_iso(e_peak) # Amati in Amati\n",
    "    e_iso = amatiE_peak2E_iso(e_peak, m=0.5, K=400., e0=1e53) # Amati used by Andrew\n",
    "    dlz2_target = e_iso/(4.*np.pi*fluence)\n",
    "    dlz_target = np.sqrt(dlz2_target)\n",
    "    #z_amati_dc = solve_iter(cosmo.comoving_distance,dlz_target*u.cm) # switch between two solvers of z from dc(z)\n",
    "    z_amati_dc = z_at_value(cosmo.comoving_distance, dlz_target*u.cm)\n",
    "    return e_iso, dlz_target*u.cm, z_amati_dc"
   ]
  },
  {
   "cell_type": "code",
   "execution_count": 499,
   "metadata": {
    "collapsed": false
   },
   "outputs": [
    {
     "name": "stdout",
     "output_type": "stream",
     "text": [
      "grb 170214A 0.00018 408.5 2.53 0.598168160963\n",
      "grb 160625B 1.7e-06 68.0 1.41 1.20292748991\n",
      "grb 160623A 0.00066 562.0 0.37 0.408543971657\n",
      "grb 160509A 0.00015 370.0 1.17 0.592618346205\n",
      "grb 150514A 4.9e-06 73.0 0.81 0.658487240511\n"
     ]
    }
   ],
   "source": [
    "z_measured = []\n",
    "z_amati = []\n",
    "for grb in fermi_grbs:\n",
    "    z_measured.append(grb['z'])\n",
    "    e_iso, dc, z = calc_redshift(grb['e_peak'], grb['fluence'])\n",
    "    print \"grb\", grb['grb'], grb['fluence'], grb['e_peak'], grb['z'], z\n",
    "    z_amati.append(z)"
   ]
  },
  {
   "cell_type": "code",
   "execution_count": 500,
   "metadata": {
    "collapsed": true
   },
   "outputs": [],
   "source": [
    "%matplotlib inline\n",
    "import matplotlib.pyplot as plt"
   ]
  },
  {
   "cell_type": "code",
   "execution_count": 501,
   "metadata": {
    "collapsed": false
   },
   "outputs": [
    {
     "data": {
      "text/plain": [
       "<matplotlib.text.Text at 0x116ca2ed0>"
      ]
     },
     "execution_count": 501,
     "metadata": {},
     "output_type": "execute_result"
    },
    {
     "data": {
      "image/png": "[encoded data removed]",
      "text/plain": [
       "<matplotlib.figure.Figure at 0x116c8ddd0>"
      ]
     },
     "metadata": {},
     "output_type": "display_data"
    }
   ],
   "source": [
    "plt.plot(z_measured, z_amati, \"o\")\n",
    "z_max = max(max(z_amati),max(z_measured))\n",
    "plt.plot([0,z_max],[0,z_max],linestyle=\":\", color=\"black\")\n",
    "plt.xlim([0,1.1*z_max])\n",
    "plt.ylim([0,1.1*z_max])\n",
    "plt.xlabel('z measured')\n",
    "plt.ylabel('z Amati')"
   ]
  },
  {
   "cell_type": "code",
   "execution_count": null,
   "metadata": {
    "collapsed": true
   },
   "outputs": [],
   "source": []
  }
 ],
 "metadata": {
  "kernelspec": {
   "display_name": "Python 2",
   "language": "python",
   "name": "python2"
  },
  "language_info": {
   "codemirror_mode": {
    "name": "ipython",
    "version": 2
   },
   "file_extension": ".py",
   "mimetype": "text/x-python",
   "name": "python",
   "nbconvert_exporter": "python",
   "pygments_lexer": "ipython2",
   "version": "2.7.13"
  }
 },
 "nbformat": 4,
 "nbformat_minor": 2
}
